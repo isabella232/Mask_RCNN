{
 "cells": [
  {
   "cell_type": "code",
   "execution_count": 9,
   "metadata": {
    "collapsed": true,
    "pycharm": {
     "name": "#%%\n"
    }
   },
   "outputs": [
    {
     "data": {
      "text/plain": "[0.5, 0.5, 0.5, 0.5, 0.5, 1, 1, 1, 1, 1, 2, 2, 2, 2, 2]"
     },
     "execution_count": 9,
     "metadata": {},
     "output_type": "execute_result"
    }
   ],
   "source": [
    "import numpy as np\n",
    "\n",
    "scales = (32, 64, 128, 256, 512)\n",
    "\n",
    "ratios = [{\"width_height\": 0.5, \"width_depth\": 0.5}, {\"width_height\": 1, \"width_depth\": 1}, {\"width_height\": 2, \"width_depth\": 2}]\n",
    "# ratios = [0.5, 1, 2]\n",
    "scales, ratios = np.meshgrid(np.array(scales), np.array(ratios))\n",
    "\n",
    "scales = scales.flatten()\n",
    "ratios = ratios.flatten()\n",
    "\n",
    "[ratio['width_height'] for ratio in ratios]"
   ]
  },
  {
   "cell_type": "code",
   "execution_count": 10,
   "outputs": [
    {
     "data": {
      "text/plain": "Dimension(2)"
     },
     "execution_count": 10,
     "metadata": {},
     "output_type": "execute_result"
    }
   ],
   "source": [
    "import tensorflow as tf\n",
    "\n",
    "t = tf.constant([[1, 2, 3, 4, 5, 6], [1, 4, 5, 6, 7, 8]])\n",
    "t.shape[0]"
   ],
   "metadata": {
    "collapsed": false,
    "pycharm": {
     "name": "#%%\n"
    }
   }
  },
  {
   "cell_type": "code",
   "execution_count": 15,
   "outputs": [],
   "source": [
    "from tensorflow import Session\n",
    "\n",
    "with Session() as sess:\n",
    "    sess.run(tf.global_variables_initializer())\n",
    "    bool = tf.less(t.shape[0], 3).eval()"
   ],
   "metadata": {
    "collapsed": false,
    "pycharm": {
     "name": "#%%\n"
    }
   }
  }
 ],
 "metadata": {
  "kernelspec": {
   "display_name": "Python 3",
   "language": "python",
   "name": "python3"
  },
  "language_info": {
   "codemirror_mode": {
    "name": "ipython",
    "version": 2
   },
   "file_extension": ".py",
   "mimetype": "text/x-python",
   "name": "python",
   "nbconvert_exporter": "python",
   "pygments_lexer": "ipython2",
   "version": "2.7.6"
  }
 },
 "nbformat": 4,
 "nbformat_minor": 0
}